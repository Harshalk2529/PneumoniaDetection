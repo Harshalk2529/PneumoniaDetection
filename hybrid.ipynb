{
 "cells": [
  {
   "cell_type": "code",
   "execution_count": 1,
   "id": "c82bfee0-bc0f-4f19-a59b-ef0b5874141a",
   "metadata": {},
   "outputs": [],
   "source": [
    "import pickle\n",
    "import numpy as np\n",
    "import pandas as pd\n",
    "import sklearn\n",
    "import joblib\n",
    "\n",
    "def load_model(filepath):\n",
    "  \"\"\"Loads a pickled model.\"\"\"\n",
    "  with open(filepath, 'rb') as file:\n",
    "    model = joblib.load(file)\n",
    "  return model\n",
    "\n",
    "symp_model = load_model('/PneumoniaDetection/pneumonia_model.joblib')"
   ]
  },
  {
   "cell_type": "code",
   "execution_count": 3,
   "id": "158105a5-5335-4d47-a1f8-70e50a3298ca",
   "metadata": {},
   "outputs": [
    {
     "name": "stdout",
     "output_type": "stream",
     "text": [
      "[1]\n"
     ]
    },
    {
     "name": "stderr",
     "output_type": "stream",
     "text": [
      "C:\\Users\\Hi\\anaconda3\\envs\\pneumonia-detection\\lib\\site-packages\\sklearn\\base.py:464: UserWarning: X does not have valid feature names, but RandomForestClassifier was fitted with feature names\n",
      "  warnings.warn(\n"
     ]
    }
   ],
   "source": [
    "input_data = np.array([[1, 0, 0]])\n",
    "symp_prediction = symp_model.predict(input_data)\n",
    "print(symp_prediction)"
   ]
  },
  {
   "cell_type": "code",
   "execution_count": 5,
   "id": "0b630075-1616-4e19-9c22-107a3c1c51ea",
   "metadata": {},
   "outputs": [],
   "source": [
    "import tensorflow as tf\n",
    "import cv2\n",
    "\n",
    "labels = [\"NORMAL\", \"PNEUMONIA\"]\n",
    "IMG_SIZE = 150\n",
    "def prepare(filepath):\n",
    "    img_array = cv2.imread(filepath, cv2.IMREAD_GRAYSCALE)\n",
    "    new_array = cv2.resize(img_array, (IMG_SIZE, IMG_SIZE))\n",
    "    normalized_array = new_array / 255.0\n",
    "    return normalized_array.reshape(-1, IMG_SIZE, IMG_SIZE, 1)\n",
    "\n",
    "model = tf.keras.models.load_model(\"cnn_model.keras\")\n",
    "\n",
    "# prediction = model.predict([prepare(\"../input/images/left-lower-lobe-pneumonia.jpg\")])\n",
    "# print(labels[int(prediction[0])])"
   ]
  },
  {
   "cell_type": "code",
   "execution_count": 6,
   "id": "39f7e70c-52d8-4d0c-b70a-527a0c8d2a9f",
   "metadata": {},
   "outputs": [
    {
     "name": "stdout",
     "output_type": "stream",
     "text": [
      "1/1 [==============================] - 0s 289ms/step\n",
      "NORMAL\n"
     ]
    }
   ],
   "source": [
    "img = prepare(\"/PneumoniaDetection/input/Images/sample4N.jpg\")\n",
    "prediction = model.predict(img)\n",
    "if prediction[0][0] > 0.5:\n",
    "    predicted_class = 1\n",
    "else:\n",
    "    predicted_class = 0\n",
    "print(labels[(predicted_class)])\n",
    "\n",
    "cnn_prediction = prediction"
   ]
  },
  {
   "cell_type": "code",
   "execution_count": 7,
   "id": "1a4e242d-d8f1-4c60-a486-d4548a4f4d3f",
   "metadata": {},
   "outputs": [
    {
     "name": "stdout",
     "output_type": "stream",
     "text": [
      "NORMAL\n"
     ]
    }
   ],
   "source": [
    "hybrid_prediction = 0.1*symp_prediction + 0.990 * cnn_prediction\n",
    "\n",
    "if hybrid_prediction > 0.5:\n",
    "    predicted_class = 1\n",
    "else:\n",
    "    predicted_class = 0\n",
    "print(labels[(predicted_class)])"
   ]
  },
  {
   "cell_type": "code",
   "execution_count": null,
   "id": "eef6fcb3-028b-4deb-8b4d-7978ca27fb42",
   "metadata": {},
   "outputs": [],
   "source": []
  }
 ],
 "metadata": {
  "kernelspec": {
   "display_name": "Python [conda env:pneumonia-detection]",
   "language": "python",
   "name": "conda-env-pneumonia-detection-py"
  },
  "language_info": {
   "codemirror_mode": {
    "name": "ipython",
    "version": 3
   },
   "file_extension": ".py",
   "mimetype": "text/x-python",
   "name": "python",
   "nbconvert_exporter": "python",
   "pygments_lexer": "ipython3",
   "version": "3.8.20"
  }
 },
 "nbformat": 4,
 "nbformat_minor": 5
}
